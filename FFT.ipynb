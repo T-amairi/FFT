{
 "cells": [
  {
   "cell_type": "code",
   "execution_count": 3,
   "metadata": {},
   "outputs": [],
   "source": [
    "import numpy as np\n",
    "from matplotlib import pyplot as plt"
   ]
  },
  {
   "cell_type": "markdown",
   "metadata": {},
   "source": [
    "# Algorithme de Schönhage–Strassen\n",
    "## Etape 1 : Transformation d'un entier en polynôme "
   ]
  },
  {
   "cell_type": "code",
   "execution_count": 21,
   "metadata": {},
   "outputs": [],
   "source": [
    "#transforme un entier x en un polynôme \n",
    "def toPoly(x):\n",
    "\n",
    "    digits = list(str(x))\n",
    "    digits.reverse()\n",
    "    poly = np.zeros(pow(2,len(digits)),dtype=int)\n",
    "\n",
    "    for i in range(0,len(digits)):\n",
    "        poly[i] = int(digits[i])\n",
    "        \n",
    "    return poly\n",
    "\n",
    "#transforme un polynôme poly en un entier \n",
    "def toInt(poly):\n",
    "\n",
    "    x = 0\n",
    "\n",
    "    for i in range(0,len(poly)):\n",
    "        x += poly[i] * pow(10,i)\n",
    "\n",
    "    return x\n",
    "\n",
    "#tests\n",
    "assert(167546 == toInt(toPoly(167546)))\n",
    "assert(546 == toInt(toPoly(546)))\n",
    "assert(12 == toInt(toPoly(12)))\n",
    "assert(1 == toInt(toPoly(1)))"
   ]
  },
  {
   "cell_type": "markdown",
   "metadata": {},
   "source": [
    "## Etape 2 : Calcul du produit de convolution de deux polynômes"
   ]
  },
  {
   "cell_type": "code",
   "execution_count": 38,
   "metadata": {},
   "outputs": [],
   "source": [
    "#permet de calculer le produit de convolution entre les polynômes polX et polY\n",
    "def prodConv(polX,polY):\n",
    "\n",
    "    #Etape 2.1 :\n",
    "        #on calcule tout d'abord la transformée de Fourier des deux polynômes à l'aide de la FFT \n",
    "    fftX = np.fft.fft(polX)\n",
    "    fftY = np.fft.fft(polY)\n",
    "\n",
    "    #Etape 2.2 :\n",
    "        #on effectue le produit point par point des deux transformations \n",
    "    prod = fftX * fftY\n",
    "\n",
    "    #Etape 2.3 :\n",
    "        #on calcule finalement la transformée inverse de Fourier : le résultat correspond au produit de convolution souhaité\n",
    "    ifft = np.fft.ifft(prod)\n",
    "\n",
    "    return ifft\n",
    "\n",
    "#test\n",
    "np.testing.assert_array_equal(prodConv(toPoly(41),toPoly(37)),np.array([7.+0.j,31.+0.j,12.+0.j,0.+0.j]))"
   ]
  },
  {
   "cell_type": "markdown",
   "metadata": {},
   "source": [
    "## Etape 3 : Transformation numérique réelle "
   ]
  },
  {
   "cell_type": "code",
   "execution_count": 43,
   "metadata": {},
   "outputs": [],
   "source": [
    "#permet de transformer le produit de convolution pro en valeur numérique réelle \n",
    "def toNumerical(prod):\n",
    "\n",
    "    prod = (prod.real).astype(int)\n",
    "    res = 0\n",
    "\n",
    "    for i in range(0,len(prod)):\n",
    "        res += prod[i] * pow(10,i)\n",
    "\n",
    "    return res\n",
    "\n",
    "#test\n",
    "assert(toNumerical(np.array([7.+0.j,31.+0.j,12.+0.j,0.+0.j])) == 1517)"
   ]
  },
  {
   "cell_type": "markdown",
   "metadata": {},
   "source": [
    "## Implémentation finale "
   ]
  },
  {
   "cell_type": "code",
   "execution_count": 47,
   "metadata": {},
   "outputs": [],
   "source": [
    "#permet de calculer le produit entre x et y en utilisant l'algorithme de Schönhage–Strassen\n",
    "def SchStr(x,y):\n",
    "\n",
    "    polX = toPoly(x)\n",
    "    polY = toPoly(y)\n",
    "    prod = prodConv(polX,polY)\n",
    "    return toNumerical(prod)\n",
    "\n",
    "#tests\n",
    "assert(SchStr(456,789) == 456*789)\n",
    "assert(SchStr(1,1) == 1)\n",
    "assert(SchStr(39405,39405) == 39405*39405)\n"
   ]
  },
  {
   "cell_type": "markdown",
   "metadata": {},
   "source": []
  }
 ],
 "metadata": {
  "interpreter": {
   "hash": "10e1abf77ddef6b5a0d462bd0c1af8a6d69cacf984b7ff54f171d3af9bd75ca1"
  },
  "kernelspec": {
   "display_name": "Python 3.9.6 64-bit ('base': conda)",
   "language": "python",
   "name": "python3"
  },
  "language_info": {
   "codemirror_mode": {
    "name": "ipython",
    "version": 3
   },
   "file_extension": ".py",
   "mimetype": "text/x-python",
   "name": "python",
   "nbconvert_exporter": "python",
   "pygments_lexer": "ipython3",
   "version": "3.9.6"
  },
  "orig_nbformat": 4
 },
 "nbformat": 4,
 "nbformat_minor": 2
}
